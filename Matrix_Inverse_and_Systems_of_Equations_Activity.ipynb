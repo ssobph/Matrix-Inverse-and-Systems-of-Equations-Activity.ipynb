{
  "nbformat": 4,
  "nbformat_minor": 0,
  "metadata": {
    "colab": {
      "provenance": []
    },
    "kernelspec": {
      "name": "python3",
      "display_name": "Python 3"
    },
    "language_info": {
      "name": "python"
    }
  },
  "cells": [
    {
      "cell_type": "markdown",
      "source": [
        "Practice Problem 1: Create a 4×4 random matrix and check if it is symmetric."
      ],
      "metadata": {
        "id": "eu3d4u4sN0NO"
      }
    },
    {
      "cell_type": "code",
      "execution_count": 1,
      "metadata": {
        "colab": {
          "base_uri": "https://localhost:8080/"
        },
        "id": "OrDcRvzNM1zV",
        "outputId": "41656fc8-9b27-4fdf-96e1-562e4cbb2693"
      },
      "outputs": [
        {
          "output_type": "stream",
          "name": "stdout",
          "text": [
            "Random Matrix:\n",
            " [[7 2 5 5]\n",
            " [1 4 6 7]\n",
            " [7 3 4 8]\n",
            " [1 8 9 3]]\n",
            "\n",
            "Is the random matrix symmetric? False\n"
          ]
        }
      ],
      "source": [
        "import numpy as np\n",
        "\n",
        "# Generate a 4x4 random matrix\n",
        "random_matrix = np.random.randint(1, 10, (4, 4))\n",
        "\n",
        "# Check if the matrix is symmetric\n",
        "is_symmetric = (random_matrix == random_matrix.T).all()\n",
        "\n",
        "# Output the matrix and its symmetry status\n",
        "print(\"Random Matrix:\\n\", random_matrix)\n",
        "print(\"\\nIs the random matrix symmetric?\", is_symmetric)\n"
      ]
    },
    {
      "cell_type": "markdown",
      "source": [
        "Practice Problem 2: Find the trace of a 5×5 identity matrix."
      ],
      "metadata": {
        "id": "TSsS-3-NN3nS"
      }
    },
    {
      "cell_type": "code",
      "source": [
        "# Create a 5x5 identity matrix\n",
        "identity_matrix = np.eye(5)\n",
        "\n",
        "# Calculate the trace\n",
        "trace = np.trace(identity_matrix)\n",
        "\n",
        "# Output the matrix and the trace\n",
        "print(\"5x5 Identity Matrix:\\n\", identity_matrix)\n",
        "print(\"\\nTrace of the 5x5 Identity Matrix:\", trace)\n"
      ],
      "metadata": {
        "colab": {
          "base_uri": "https://localhost:8080/"
        },
        "id": "-JKoB3OTN3ON",
        "outputId": "cb1cfc14-d3b5-4d69-e7bb-6c96328d754d"
      },
      "execution_count": 2,
      "outputs": [
        {
          "output_type": "stream",
          "name": "stdout",
          "text": [
            "5x5 Identity Matrix:\n",
            " [[1. 0. 0. 0. 0.]\n",
            " [0. 1. 0. 0. 0.]\n",
            " [0. 0. 1. 0. 0.]\n",
            " [0. 0. 0. 1. 0.]\n",
            " [0. 0. 0. 0. 1.]]\n",
            "\n",
            "Trace of the 5x5 Identity Matrix: 5.0\n"
          ]
        }
      ]
    },
    {
      "cell_type": "markdown",
      "source": [
        "Practice Problem 3: Compute the determinant of a 3×3 matrix using NumPy."
      ],
      "metadata": {
        "id": "QDSNzvGyN62b"
      }
    },
    {
      "cell_type": "code",
      "source": [
        "# Define a 3x3 matrix\n",
        "matrix_3x3 = np.array([[2, 3, 1], [4, 5, 6], [7, 8, 9]])\n",
        "\n",
        "# Calculate the determinant\n",
        "determinant = np.linalg.det(matrix_3x3)\n",
        "\n",
        "# Output the matrix and its determinant\n",
        "print(\"3x3 Matrix:\\n\", matrix_3x3)\n",
        "print(\"\\nDeterminant of the 3x3 Matrix:\", determinant)\n"
      ],
      "metadata": {
        "colab": {
          "base_uri": "https://localhost:8080/"
        },
        "id": "_yosfbnIN8nJ",
        "outputId": "2be03c0f-d1d3-4825-c530-173d91c0c278"
      },
      "execution_count": 3,
      "outputs": [
        {
          "output_type": "stream",
          "name": "stdout",
          "text": [
            "3x3 Matrix:\n",
            " [[2 3 1]\n",
            " [4 5 6]\n",
            " [7 8 9]]\n",
            "\n",
            "Determinant of the 3x3 Matrix: 9.000000000000005\n"
          ]
        }
      ]
    },
    {
      "cell_type": "markdown",
      "source": [
        "Practice Problem 4: Generate a random 3×3 matrix and find its transpose and determinant"
      ],
      "metadata": {
        "id": "1R1ELwThN_gR"
      }
    },
    {
      "cell_type": "code",
      "source": [
        "# Generate a random 3x3 matrix\n",
        "pixel_matrix = np.random.randint(0, 256, (3, 3))\n",
        "\n",
        "# Calculate the transpose\n",
        "transpose = pixel_matrix.T\n",
        "\n",
        "# Calculate the determinant\n",
        "determinant = np.linalg.det(pixel_matrix)\n",
        "\n",
        "# Output the matrix, its transpose, and its determinant\n",
        "print(\"Random 3x3 Matrix:\\n\", pixel_matrix)\n",
        "print(\"\\nTranspose of the Matrix:\\n\", transpose)\n",
        "print(\"\\nDeterminant of the Matrix:\", determinant)\n"
      ],
      "metadata": {
        "colab": {
          "base_uri": "https://localhost:8080/"
        },
        "id": "04114JgNOBNN",
        "outputId": "5dc73f46-6318-4880-c061-d395dff67eae"
      },
      "execution_count": 4,
      "outputs": [
        {
          "output_type": "stream",
          "name": "stdout",
          "text": [
            "Random 3x3 Matrix:\n",
            " [[ 66  39  37]\n",
            " [178 185 212]\n",
            " [ 13 183 240]]\n",
            "\n",
            "Transpose of the Matrix:\n",
            " [[ 66 178  13]\n",
            " [ 39 185 183]\n",
            " [ 37 212 240]]\n",
            "\n",
            "Determinant of the Matrix: -72478.99999999981\n"
          ]
        }
      ]
    },
    {
      "cell_type": "markdown",
      "source": [
        "Practice Problem 5: Create a symmetric 3×3 matrix and verify its properties."
      ],
      "metadata": {
        "id": "JbMmkxFbOCz6"
      }
    },
    {
      "cell_type": "code",
      "source": [
        "# Define a symmetric 3x3 matrix\n",
        "symmetric_matrix = np.array([[2, 1, 1], [1, 2, 1], [1, 1, 2]])\n",
        "\n",
        "# Check if the matrix is symmetric\n",
        "is_symmetric = (symmetric_matrix == symmetric_matrix.T).all()\n",
        "\n",
        "# Output the matrix and its symmetry status\n",
        "print(\"Symmetric 3x3 Matrix:\\n\", symmetric_matrix)\n",
        "print(\"\\nIs the matrix symmetric?\", is_symmetric)\n"
      ],
      "metadata": {
        "colab": {
          "base_uri": "https://localhost:8080/"
        },
        "id": "ut63FpvROEfg",
        "outputId": "38ead50d-0ab7-4172-93e1-51fc0c4609d4"
      },
      "execution_count": 5,
      "outputs": [
        {
          "output_type": "stream",
          "name": "stdout",
          "text": [
            "Symmetric 3x3 Matrix:\n",
            " [[2 1 1]\n",
            " [1 2 1]\n",
            " [1 1 2]]\n",
            "\n",
            "Is the matrix symmetric? True\n"
          ]
        }
      ]
    },
    {
      "cell_type": "markdown",
      "source": [
        "Bonus Challenge: Write a function that checks if an\n",
        "nxn\n",
        "nxn matrix is invertible. If it is, return its inverse; otherwise, print that the matrix is not invertible."
      ],
      "metadata": {
        "id": "9nQ_O191OQvF"
      }
    },
    {
      "cell_type": "code",
      "source": [
        "import numpy as np\n",
        "\n",
        "def check_invertible(matrix):\n",
        "    \"\"\"\n",
        "    Function to check if a matrix is invertible.\n",
        "    If invertible, returns the inverse.\n",
        "    Otherwise, prints a message that the matrix is not invertible.\n",
        "    \"\"\"\n",
        "    # Calculate the determinant\n",
        "    determinant = np.linalg.det(matrix)\n",
        "    print(f\"Determinant of the matrix: {determinant}\")\n",
        "\n",
        "    # Check if the determinant is non-zero\n",
        "    if determinant != 0:\n",
        "        inverse_matrix = np.linalg.inv(matrix)\n",
        "        print(\"The matrix is invertible. Its inverse is:\")\n",
        "        return inverse_matrix\n",
        "    else:\n",
        "        print(\"The matrix is not invertible.\")\n",
        "        return None\n",
        "\n",
        "# Example usage:\n",
        "# Define an example matrix\n",
        "example_matrix = np.array([[4, 7, 2], [3, 6, 1], [2, 5, 8]])\n",
        "\n",
        "# Check if the matrix is invertible\n",
        "result = check_invertible(example_matrix)\n",
        "\n",
        "# Print the result\n",
        "if result is not None:\n",
        "    print(result)\n"
      ],
      "metadata": {
        "colab": {
          "base_uri": "https://localhost:8080/"
        },
        "id": "AMPA2-ZQOWfJ",
        "outputId": "6c69296e-a7a4-494c-c564-2431f8d7a020"
      },
      "execution_count": 6,
      "outputs": [
        {
          "output_type": "stream",
          "name": "stdout",
          "text": [
            "Determinant of the matrix: 23.999999999999993\n",
            "The matrix is invertible. Its inverse is:\n",
            "[[ 1.79166667 -1.91666667 -0.20833333]\n",
            " [-0.91666667  1.16666667  0.08333333]\n",
            " [ 0.125      -0.25        0.125     ]]\n"
          ]
        }
      ]
    }
  ]
}